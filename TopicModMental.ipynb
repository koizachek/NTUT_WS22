{
 "cells": [
  {
   "cell_type": "markdown",
   "id": "d8f1cb71",
   "metadata": {},
   "source": [
    "# Topic Modelling"
   ]
  },
  {
   "cell_type": "markdown",
   "id": "84fd1204",
   "metadata": {},
   "source": [
    "In this section, you will get a basic introduction to topic modelling with Latent Dirichlet Allocation (LDA) – a commonly used method to find topics and trends in your dataset. We will use a CSV file from our experiments, which you will produce yourself in the next weeks, too.\n",
    "\n",
    "Topic Models are a type of statistical language models used for uncovering hidden structure in a collection of texts. you can think of it as a task of:\n",
    "\n",
    "- tagging (what is the content of the following text?)\n",
    "- clustering (what goes with what?)\n",
    "- reduction (representing a text as a few snippets)"
   ]
  },
  {
   "cell_type": "markdown",
   "id": "d08cfd11",
   "metadata": {},
   "source": [
    "In this section, you will learn more about:\n",
    "   \n",
    "    Loading data\n",
    "    Data cleaning\n",
    "    Exploratory analysis\n",
    "    Preparing data for LDA analysis\n",
    "    LDA model training\n",
    "    Analyzing LDA model results"
   ]
  },
  {
   "cell_type": "code",
   "execution_count": 1,
   "id": "d9069550",
   "metadata": {},
   "outputs": [],
   "source": [
    "#import packages you need:\n",
    "\n",
    "import pandas as pd\n",
    "import os\n",
    "import re"
   ]
  },
  {
   "cell_type": "code",
   "execution_count": 2,
   "id": "4c2b4484",
   "metadata": {},
   "outputs": [
    {
     "data": {
      "text/html": [
       "<div>\n",
       "<style scoped>\n",
       "    .dataframe tbody tr th:only-of-type {\n",
       "        vertical-align: middle;\n",
       "    }\n",
       "\n",
       "    .dataframe tbody tr th {\n",
       "        vertical-align: top;\n",
       "    }\n",
       "\n",
       "    .dataframe thead th {\n",
       "        text-align: right;\n",
       "    }\n",
       "</style>\n",
       "<table border=\"1\" class=\"dataframe\">\n",
       "  <thead>\n",
       "    <tr style=\"text-align: right;\">\n",
       "      <th></th>\n",
       "      <th>Uuid</th>\n",
       "      <th>Title</th>\n",
       "      <th>Color</th>\n",
       "      <th>Shape</th>\n",
       "      <th>PositionX</th>\n",
       "      <th>PositionY</th>\n",
       "      <th>PositionZ</th>\n",
       "      <th>Group</th>\n",
       "    </tr>\n",
       "  </thead>\n",
       "  <tbody>\n",
       "    <tr>\n",
       "      <th>0</th>\n",
       "      <td>06a5e138-04c4-4059-954f-4d9a05ccc8eb</td>\n",
       "      <td>Mental Health</td>\n",
       "      <td>4CAF50</td>\n",
       "      <td>Ball</td>\n",
       "      <td>-7.750854e-01</td>\n",
       "      <td>0.370025</td>\n",
       "      <td>0.213730</td>\n",
       "      <td>7</td>\n",
       "    </tr>\n",
       "    <tr>\n",
       "      <th>1</th>\n",
       "      <td>b75d582d-9229-4897-8072-0edffaa17927</td>\n",
       "      <td>I Am Worried About the Elderly health How To C...</td>\n",
       "      <td>907A47</td>\n",
       "      <td>Plus</td>\n",
       "      <td>-3.341778e-01</td>\n",
       "      <td>0.525397</td>\n",
       "      <td>-0.086628</td>\n",
       "      <td>7</td>\n",
       "    </tr>\n",
       "    <tr>\n",
       "      <th>2</th>\n",
       "      <td>df261cab-8bde-413b-89dc-a58cdeb6ffbe</td>\n",
       "      <td>Health</td>\n",
       "      <td>E0C3DD</td>\n",
       "      <td>Plus</td>\n",
       "      <td>-1.045334e+06</td>\n",
       "      <td>0.265556</td>\n",
       "      <td>0.542487</td>\n",
       "      <td>7</td>\n",
       "    </tr>\n",
       "    <tr>\n",
       "      <th>3</th>\n",
       "      <td>f89bb8a9-9790-4591-b25c-dfec8bbef39d</td>\n",
       "      <td>Anxiety</td>\n",
       "      <td>1C1C1C</td>\n",
       "      <td>Ball</td>\n",
       "      <td>-9.446453e-01</td>\n",
       "      <td>0.117676</td>\n",
       "      <td>0.282103</td>\n",
       "      <td>7</td>\n",
       "    </tr>\n",
       "    <tr>\n",
       "      <th>4</th>\n",
       "      <td>f39ecf77-ecd8-4226-8247-3b8356b1c51b</td>\n",
       "      <td>Stigma In Society</td>\n",
       "      <td>3F51B5</td>\n",
       "      <td>Diamond</td>\n",
       "      <td>-7.301590e-01</td>\n",
       "      <td>0.238134</td>\n",
       "      <td>0.479451</td>\n",
       "      <td>7</td>\n",
       "    </tr>\n",
       "  </tbody>\n",
       "</table>\n",
       "</div>"
      ],
      "text/plain": [
       "                                   Uuid  \\\n",
       "0  06a5e138-04c4-4059-954f-4d9a05ccc8eb   \n",
       "1  b75d582d-9229-4897-8072-0edffaa17927   \n",
       "2  df261cab-8bde-413b-89dc-a58cdeb6ffbe   \n",
       "3  f89bb8a9-9790-4591-b25c-dfec8bbef39d   \n",
       "4  f39ecf77-ecd8-4226-8247-3b8356b1c51b   \n",
       "\n",
       "                                               Title   Color    Shape  \\\n",
       "0                                      Mental Health  4CAF50     Ball   \n",
       "1  I Am Worried About the Elderly health How To C...  907A47     Plus   \n",
       "2                                             Health  E0C3DD     Plus   \n",
       "3                                            Anxiety  1C1C1C     Ball   \n",
       "4                                  Stigma In Society  3F51B5  Diamond   \n",
       "\n",
       "      PositionX  PositionY  PositionZ  Group  \n",
       "0 -7.750854e-01   0.370025   0.213730      7  \n",
       "1 -3.341778e-01   0.525397  -0.086628      7  \n",
       "2 -1.045334e+06   0.265556   0.542487      7  \n",
       "3 -9.446453e-01   0.117676   0.282103      7  \n",
       "4 -7.301590e-01   0.238134   0.479451      7  "
      ]
     },
     "execution_count": 2,
     "metadata": {},
     "output_type": "execute_result"
    }
   ],
   "source": [
    "#read file with pandas, else, you can also use the built in python fuction:\n",
    "\n",
    "#with open('MENTAL.xlsx', r) as file:\n",
    "#print(file)\n",
    "\n",
    "\n",
    "df = pd.read_excel('MENTAL.xlsx')\n",
    "df.head()"
   ]
  },
  {
   "cell_type": "code",
   "execution_count": 3,
   "id": "d8eeb005",
   "metadata": {},
   "outputs": [
    {
     "data": {
      "text/html": [
       "<div>\n",
       "<style scoped>\n",
       "    .dataframe tbody tr th:only-of-type {\n",
       "        vertical-align: middle;\n",
       "    }\n",
       "\n",
       "    .dataframe tbody tr th {\n",
       "        vertical-align: top;\n",
       "    }\n",
       "\n",
       "    .dataframe thead th {\n",
       "        text-align: right;\n",
       "    }\n",
       "</style>\n",
       "<table border=\"1\" class=\"dataframe\">\n",
       "  <thead>\n",
       "    <tr style=\"text-align: right;\">\n",
       "      <th></th>\n",
       "      <th>Uuid</th>\n",
       "      <th>Title</th>\n",
       "      <th>Group</th>\n",
       "    </tr>\n",
       "  </thead>\n",
       "  <tbody>\n",
       "    <tr>\n",
       "      <th>243</th>\n",
       "      <td>f6f8b081-3d3c-4f24-92d2-97a556990dcb</td>\n",
       "      <td>Talk With Someone</td>\n",
       "      <td>1</td>\n",
       "    </tr>\n",
       "    <tr>\n",
       "      <th>47</th>\n",
       "      <td>e674155f-d642-4db7-9b0f-aa8e8051ad32</td>\n",
       "      <td>Malnutrition</td>\n",
       "      <td>6</td>\n",
       "    </tr>\n",
       "    <tr>\n",
       "      <th>212</th>\n",
       "      <td>e89f5ce9-f1dc-4e54-bc7b-51db80d1cf19</td>\n",
       "      <td>Happy</td>\n",
       "      <td>1</td>\n",
       "    </tr>\n",
       "    <tr>\n",
       "      <th>140</th>\n",
       "      <td>24752dcc-184d-49ab-912d-751ba9e1130a</td>\n",
       "      <td>Bully</td>\n",
       "      <td>4</td>\n",
       "    </tr>\n",
       "    <tr>\n",
       "      <th>22</th>\n",
       "      <td>e7b7e061-e27e-43a1-8ec7-4fdd912f2a7d</td>\n",
       "      <td>Parents care</td>\n",
       "      <td>7</td>\n",
       "    </tr>\n",
       "  </tbody>\n",
       "</table>\n",
       "</div>"
      ],
      "text/plain": [
       "                                     Uuid              Title  Group\n",
       "243  f6f8b081-3d3c-4f24-92d2-97a556990dcb  Talk With Someone      1\n",
       "47   e674155f-d642-4db7-9b0f-aa8e8051ad32       Malnutrition      6\n",
       "212  e89f5ce9-f1dc-4e54-bc7b-51db80d1cf19              Happy      1\n",
       "140  24752dcc-184d-49ab-912d-751ba9e1130a              Bully      4\n",
       "22   e7b7e061-e27e-43a1-8ec7-4fdd912f2a7d       Parents care      7"
      ]
     },
     "execution_count": 3,
     "metadata": {},
     "output_type": "execute_result"
    }
   ],
   "source": [
    "# Remove the columns not needed:\n",
    "df = df.drop(columns=['Color', 'Shape', 'PositionX', 'PositionY', 'PositionZ'], axis=1).sample(245)\n",
    "\n",
    "# Print out the first rows\n",
    "df.head()"
   ]
  },
  {
   "cell_type": "markdown",
   "id": "44ba882e",
   "metadata": {},
   "source": [
    "Cleaning"
   ]
  },
  {
   "cell_type": "code",
   "execution_count": 4,
   "id": "46b4c097",
   "metadata": {},
   "outputs": [
    {
     "data": {
      "text/plain": [
       "243    talk with someone\n",
       "47          malnutrition\n",
       "212                happy\n",
       "140                bully\n",
       "22          parents care\n",
       "Name: Title, dtype: object"
      ]
     },
     "execution_count": 4,
     "metadata": {},
     "output_type": "execute_result"
    }
   ],
   "source": [
    "#clean the data and make it all lowercase:\n",
    "\n",
    "df['Title'] = \\\n",
    "df['Title'].map(lambda x: x.lower())\n",
    "df['Title'].head()"
   ]
  },
  {
   "cell_type": "code",
   "execution_count": 5,
   "id": "8ddfe748",
   "metadata": {},
   "outputs": [],
   "source": [
    "#import more packages for nummerical and visual analysis:\n",
    "\n",
    "from wordcloud import WordCloud\n",
    "import matplotlib.pyplot as plt\n",
    "import numpy as np"
   ]
  },
  {
   "cell_type": "code",
   "execution_count": 6,
   "id": "c702d721",
   "metadata": {},
   "outputs": [
    {
     "data": {
      "text/plain": [
       "243              talk with someone\n",
       "47                    malnutrition\n",
       "212                          happy\n",
       "140                          bully\n",
       "22                    parents care\n",
       "                  ...             \n",
       "160                       selflove\n",
       "64                    enough sleep\n",
       "214                 responsibility\n",
       "23                    more funding\n",
       "88     cognitive behavior treament\n",
       "Name: Title, Length: 245, dtype: object"
      ]
     },
     "execution_count": 6,
     "metadata": {},
     "output_type": "execute_result"
    }
   ],
   "source": [
    "#check the column you need to work with is it clean?\n",
    "\n",
    "df['Title']"
   ]
  },
  {
   "cell_type": "code",
   "execution_count": 7,
   "id": "88cd15b8",
   "metadata": {},
   "outputs": [
    {
     "data": {
      "image/png": "[encoded data removed]",
      "text/plain": [
       "<Figure size 432x288 with 1 Axes>"
      ]
     },
     "metadata": {
      "needs_background": "light"
     },
     "output_type": "display_data"
    }
   ],
   "source": [
    "#create a wordcloud with a size and frequencies\n",
    "\n",
    "text = df['Title'].value_counts().to_dict()\n",
    "wc = WordCloud(background_color=\"white\", max_words=45, width=1920, height=1080).generate_from_frequencies(text)\n",
    "\n",
    "plt.imshow(wc)\n",
    "plt.axis('off')\n",
    "plt.show()"
   ]
  },
  {
   "cell_type": "markdown",
   "id": "721e3446",
   "metadata": {},
   "source": [
    "# Latent Dirichlet Allocation"
   ]
  },
  {
   "cell_type": "markdown",
   "id": "772bd3c6",
   "metadata": {},
   "source": [
    "LDA is a generative probabilistic model that assumes each topic is a mixture over an underlying set of words, and each document is a mixture of over a set of topic probabilities.\n",
    "\n",
    "We can describe the generative process of LDA as, given the :\n",
    "\n",
    "- M number of documents\n",
    "- N number of words \n",
    "- and prior K number of topics\n",
    "\n",
    "the model trains to output:\n",
    "\n",
    "- psi, the distribution of words for each topic K\n",
    "- phi, the distribution of topics for each document i"
   ]
  },
  {
   "cell_type": "code",
   "execution_count": 8,
   "id": "9f1fbdf9",
   "metadata": {},
   "outputs": [
    {
     "name": "stderr",
     "output_type": "stream",
     "text": [
      "[nltk_data] Downloading package stopwords to\n",
      "[nltk_data]     /Users/dianakozachek/nltk_data...\n",
      "[nltk_data]   Package stopwords is already up-to-date!\n"
     ]
    }
   ],
   "source": [
    "#load more packages\n",
    "\n",
    "import gensim\n",
    "from gensim.utils import simple_preprocess\n",
    "import nltk\n",
    "nltk.download('stopwords')\n",
    "from nltk.corpus import stopwords"
   ]
  },
  {
   "cell_type": "code",
   "execution_count": 9,
   "id": "cd50ecd1",
   "metadata": {},
   "outputs": [],
   "source": [
    "#drop stopwords, or words that are specifically unimportant in this context:\n",
    "\n",
    "stop_words = stopwords.words('english')\n",
    "# stop_words.extend(['choose whatever you like'])"
   ]
  },
  {
   "cell_type": "code",
   "execution_count": 10,
   "id": "5a466bfd",
   "metadata": {
    "scrolled": false
   },
   "outputs": [],
   "source": [
    "#this is the column we will work with, print it out and check, if you want:\n",
    "\n",
    "titles = list(df['Title'])"
   ]
  },
  {
   "cell_type": "code",
   "execution_count": 11,
   "id": "09224984",
   "metadata": {},
   "outputs": [
    {
     "name": "stdout",
     "output_type": "stream",
     "text": [
      "['talk', 'someone']\n"
     ]
    }
   ],
   "source": [
    "#\n",
    "\n",
    "def sent_to_words(sentences):\n",
    "    for sentence in sentences:\n",
    "        yield(gensim.utils.simple_preprocess(str(sentence), deacc=True))\n",
    "        \n",
    "def remove_stopwords(texts):\n",
    "    return [[word for word in simple_preprocess(str(doc))\n",
    "             if word not in stop_words] for doc in texts]\n",
    "\n",
    "data_words = remove_stopwords(titles)\n",
    "\n",
    "print(data_words[:1][0][:245])"
   ]
  },
  {
   "cell_type": "code",
   "execution_count": 12,
   "id": "9e934ac2",
   "metadata": {},
   "outputs": [
    {
     "name": "stdout",
     "output_type": "stream",
     "text": [
      "[(0, 1), (1, 1)]\n"
     ]
    }
   ],
   "source": [
    "import gensim.corpora as corpora\n",
    "\n",
    "# Create Dictionary\n",
    "id2word = corpora.Dictionary(data_words)\n",
    "\n",
    "# Create Corpus\n",
    "texts = data_words\n",
    "\n",
    "# Term Document Frequency\n",
    "corpus = [id2word.doc2bow(text) for text in texts]\n",
    "\n",
    "# View\n",
    "print(corpus[:1][0][:30])"
   ]
  },
  {
   "cell_type": "markdown",
   "id": "4014df45",
   "metadata": {},
   "source": [
    "# LDA Training"
   ]
  },
  {
   "cell_type": "code",
   "execution_count": 13,
   "id": "eb9a1317",
   "metadata": {},
   "outputs": [
    {
     "name": "stdout",
     "output_type": "stream",
     "text": [
      "[(0,\n",
      "  '0.072*\"health\" + 0.055*\"depression\" + 0.028*\"mental\" + 0.019*\"life\" + '\n",
      "  '0.019*\"physical\" + 0.019*\"others\" + 0.019*\"crisis\" + 0.019*\"music\" + '\n",
      "  '0.019*\"pressure\" + 0.019*\"listen\"'),\n",
      " (1,\n",
      "  '0.026*\"education\" + 0.026*\"enough\" + 0.026*\"body\" + 0.026*\"shaming\" + '\n",
      "  '0.026*\"pressure\" + 0.014*\"media\" + 0.014*\"stress\" + 0.014*\"solutions\" + '\n",
      "  '0.014*\"watch\" + 0.014*\"movies\"'),\n",
      " (2,\n",
      "  '0.072*\"family\" + 0.025*\"care\" + 0.013*\"stress\" + 0.013*\"pressure\" + '\n",
      "  '0.013*\"life\" + 0.013*\"taboo\" + 0.013*\"balance\" + 0.013*\"lack\" + '\n",
      "  '0.013*\"game\" + 0.013*\"work\"'),\n",
      " (3,\n",
      "  '0.097*\"social\" + 0.045*\"mental\" + 0.045*\"health\" + 0.045*\"media\" + '\n",
      "  '0.019*\"better\" + 0.019*\"work\" + 0.019*\"connections\" + 0.019*\"exercises\" + '\n",
      "  '0.019*\"anxiety\" + 0.019*\"friends\"'),\n",
      " (4,\n",
      "  '0.036*\"awareness\" + 0.025*\"solution\" + 0.025*\"exercise\" + 0.013*\"first\" + '\n",
      "  '0.013*\"away\" + 0.013*\"rest\" + 0.013*\"put\" + 0.013*\"everything\" + '\n",
      "  '0.013*\"aid\" + 0.013*\"emotional\"'),\n",
      " (5,\n",
      "  '0.027*\"health\" + 0.027*\"mental\" + 0.027*\"someone\" + 0.027*\"talk\" + '\n",
      "  '0.027*\"confidence\" + 0.027*\"expectation\" + 0.014*\"social\" + 0.014*\"media\" + '\n",
      "  '0.014*\"enough\" + 0.014*\"vr\"'),\n",
      " (6,\n",
      "  '0.062*\"stress\" + 0.022*\"pressure\" + 0.022*\"physical\" + 0.022*\"resources\" + '\n",
      "  '0.022*\"finance\" + 0.022*\"anxiety\" + 0.012*\"media\" + 0.012*\"body\" + '\n",
      "  '0.012*\"go\" + 0.012*\"lack\"')]\n"
     ]
    }
   ],
   "source": [
    "from pprint import pprint\n",
    "\n",
    "# number of topics\n",
    "num_topics = 7\n",
    "\n",
    "# Build LDA model\n",
    "lda_model = gensim.models.LdaMulticore(corpus=corpus,\n",
    "                                       id2word=id2word,\n",
    "                                       num_topics=num_topics)\n",
    "\n",
    "# Print the Keyword in the 10 topics\n",
    "pprint(lda_model.print_topics())\n",
    "doc_lda = lda_model[corpus]"
   ]
  },
  {
   "cell_type": "markdown",
   "id": "51eb256a",
   "metadata": {},
   "source": [
    "# LDA Analysis"
   ]
  },
  {
   "cell_type": "markdown",
   "id": "7717b7e0",
   "metadata": {},
   "source": [
    "Now that we have a trained model let’s visualize the topics for interpretability. To do so, we’ll use a popular visualization package, pyLDAvis which is designed to help interactively with:\n",
    "\n",
    "you can manually select each topic to view its top most frequent and/or “relevant” terms, using different values of the λ parameter. This can help when you’re trying to assign a human interpretable name or “meaning” to each topic'"
   ]
  },
  {
   "cell_type": "code",
   "execution_count": 18,
   "id": "9d11990a",
   "metadata": {},
   "outputs": [],
   "source": [
    "import pyLDAvis\n",
    "import pyLDAvis.gensim_models as gensimvis\n",
    "pyLDAvis.enable_notebook()"
   ]
  },
  {
   "cell_type": "code",
   "execution_count": 19,
   "id": "9364b05f",
   "metadata": {
    "scrolled": false
   },
   "outputs": [
    {
     "name": "stderr",
     "output_type": "stream",
     "text": [
      "/Users/dianakozachek/opt/anaconda3/lib/python3.8/site-packages/pyLDAvis/_prepare.py:246: FutureWarning: In a future version of pandas all arguments of DataFrame.drop except for the argument 'labels' will be keyword-only\n",
      "  default_term_info = default_term_info.sort_values(\n"
     ]
    },
    {
     "data": {
      "text/html": [
       "\n",
       "<link rel=\"stylesheet\" type=\"text/css\" href=\"https://cdn.jsdelivr.net/gh/bmabey/pyLDAvis@3.3.1/pyLDAvis/js/ldavis.v1.0.0.css\">\n",
       "\n",
       "\n",
       "<div id=\"ldavis_el153011405471956484806752473703\"></div>\n",
       "<script type=\"text/javascript\">\n",
       "\n",
       "var ldavis_el153011405471956484806752473703_data = {\"mdsDat\": {\"x\": [0.06593541234251234, -0.07867597897442243, 0.01341493136586661, -0.1857063512457641, 0.10104831666352225, 0.15788548716973022, -0.07390181732144491], \"y\": [-0.1876352017486177, 0.16654005860149815, 0.015320756255895048, -0.005643572262261175, 0.1375829812613982, -0.00638125168439164, -0.11978377042352095], \"topics\": [1, 2, 3, 4, 5, 6, 7], \"cluster\": [1, 1, 1, 1, 1, 1, 1], \"Freq\": [17.90147812692615, 17.701388051881885, 15.589593110554048, 13.287180802964157, 12.696392380896812, 12.253364347014987, 10.570603179761957]}, \"tinfo\": {\"Term\": [\"social\", \"family\", \"health\", \"depression\", \"stress\", \"mental\", \"media\", \"awareness\", \"talk\", \"confidence\", \"someone\", \"expectation\", \"body\", \"shaming\", \"education\", \"physical\", \"care\", \"solution\", \"exercise\", \"anxiety\", \"enough\", \"resources\", \"finance\", \"pressure\", \"taboo\", \"parents\", \"therapists\", \"self\", \"understanding\", \"work\", \"social\", \"better\", \"connections\", \"exercises\", \"friends\", \"media\", \"new\", \"professionals\", \"insurance\", \"making\", \"stresses\", \"reduce\", \"unhealthy\", \"factors\", \"everyday\", \"hours\", \"coverage\", \"drug\", \"emergency\", \"hotline\", \"activity\", \"culture\", \"contributing\", \"equipment\", \"taking\", \"breaks\", \"anti\", \"affordable\", \"games\", \"help\", \"mental\", \"health\", \"work\", \"anxiety\", \"pressure\", \"training\", \"life\", \"disorders\", \"enough\", \"depression\", \"others\", \"crisis\", \"music\", \"listen\", \"elderly\", \"worried\", \"check\", \"genocide\", \"mid\", \"enjoy\", \"hurting\", \"food\", \"eating\", \"toxic\", \"failing\", \"device\", \"disorder\", \"masculinity\", \"peer\", \"repression\", \"buy\", \"identity\", \"healthy\", \"wellbeing\", \"burn\", \"equality\", \"bulling\", \"motivation\", \"deadline\", \"health\", \"taboo\", \"life\", \"physical\", \"mental\", \"pressure\", \"enough\", \"confidence\", \"good\", \"issues\", \"system\", \"abuse\", \"care\", \"relationship\", \"training\", \"alcohol\", \"sleeping\", \"resources\", \"finance\", \"stress\", \"walk\", \"park\", \"take\", \"definition\", \"everyone\", \"success\", \"know\", \"typ\", \"treament\", \"cognitive\", \"activities\", \"behavior\", \"fun\", \"cold\", \"therapy\", \"unrealistic\", \"web\", \"surfing\", \"addiction\", \"unease\", \"medication\", \"poor\", \"shower\", \"cheaper\", \"succeed\", \"mom\", \"malnutrition\", \"anxiety\", \"physical\", \"pressure\", \"media\", \"body\", \"go\", \"lack\", \"rest\", \"representation\", \"sports\", \"work\", \"expectations\", \"alcohol\", \"relationship\", \"solution\", \"exercise\", \"awareness\", \"away\", \"put\", \"everything\", \"aid\", \"time\", \"openly\", \"society\", \"stigma\", \"environmental\", \"quo\", \"status\", \"communicating\", \"problems\", \"hormonal\", \"raising\", \"lacking\", \"changes\", \"management\", \"pray\", \"sibilings\", \"group\", \"unemployed\", \"sad\", \"entertainment\", \"doctor\", \"shopping\", \"criminalisation\", \"first\", \"rest\", \"emotional\", \"therapists\", \"self\", \"sleeping\", \"go\", \"lack\", \"understanding\", \"family\", \"balance\", \"game\", \"play\", \"video\", \"increase\", \"paper\", \"workplace\", \"topic\", \"day\", \"close\", \"responders\", \"genetic\", \"eyes\", \"issue\", \"writing\", \"manifestations\", \"accessibility\", \"empathy\", \"iphone\", \"sweet\", \"news\", \"thinking\", \"isolation\", \"recognition\", \"poverty\", \"brave\", \"achievement\", \"care\", \"parents\", \"stress\", \"pressure\", \"life\", \"taboo\", \"lack\", \"work\", \"issues\", \"attention\", \"disorders\", \"first\", \"sleep\", \"shaming\", \"solutions\", \"watch\", \"movies\", \"videos\", \"party\", \"evaluation\", \"company\", \"sensibility\", \"tour\", \"selfblame\", \"stop\", \"improve\", \"fair\", \"looking\", \"xd\", \"funding\", \"outlook\", \"stereotypes\", \"policy\", \"acceptance\", \"inprivacy\", \"chocolate\", \"hangout\", \"death\", \"brain\", \"triggerwarnings\", \"education\", \"body\", \"sleep\", \"enough\", \"pressure\", \"media\", \"stress\", \"system\", \"representation\", \"good\", \"disease\", \"someone\", \"expectation\", \"vr\", \"xr\", \"ar\", \"find\", \"low\", \"reasons\", \"childhood\", \"representaions\", \"trauma\", \"positive\", \"analyze\", \"study\", \"school\", \"crime\", \"adulting\", \"rolemodels\", \"bully\", \"compare\", \"healthcare\", \"regret\", \"avatar\", \"phone\", \"confidence\", \"talk\", \"parents\", \"self\", \"therapists\", \"understanding\", \"mental\", \"health\", \"social\", \"media\", \"enough\", \"cry\"], \"Freq\": [7.0, 4.0, 9.0, 4.0, 5.0, 6.0, 5.0, 3.0, 2.0, 2.0, 1.0, 1.0, 2.0, 1.0, 2.0, 3.0, 2.0, 1.0, 1.0, 3.0, 3.0, 1.0, 1.0, 5.0, 2.0, 1.0, 1.0, 1.0, 1.0, 3.0, 6.9039304447106415, 1.328281401389266, 1.327967153906848, 1.3268844502608201, 1.324248869131819, 3.1842604263341214, 0.7085805765142341, 0.7085721948074634, 0.7084951629309519, 0.7084376218487565, 0.7084330983879595, 0.708377685993198, 0.7082768394260206, 0.7082089875140675, 0.7082007388502615, 0.7081670124587318, 0.7081292947782638, 0.7080586489640538, 0.7079045186895486, 0.7078491728162692, 0.7078434519687908, 0.7078300146293648, 0.7078185064129258, 0.7078047364660882, 0.7077775957013069, 0.707719522447253, 0.7075624652275263, 0.706626374928503, 0.7066092123860678, 0.7063998027597655, 3.1885569158333626, 3.187480864335565, 1.3281248098199154, 1.3245044446668424, 0.7107525029115558, 0.7089205012888226, 0.7087523349815507, 0.7086985191023643, 0.7084872468745574, 3.851489855929994, 1.348183855339419, 1.3480355918352156, 1.3477335394788261, 1.3470599732485502, 0.719453258603232, 0.7193883357644348, 0.7192967070770545, 0.7192771710252585, 0.7192214570997659, 0.7191582444877254, 0.7191422604453468, 0.719103319897659, 0.7189507808265642, 0.7189151949544373, 0.7188823059783497, 0.7188717157280494, 0.7188359983000182, 0.7187915324043476, 0.7187759430296821, 0.718747790066151, 0.7186924050304193, 0.7186590556086664, 0.7186048545760738, 0.7184640897584186, 0.7174382168162913, 0.7172420669629043, 0.7170549286889654, 0.7169152163185448, 0.7168776571078527, 5.120376285027518, 1.345043221234853, 1.3486058866805761, 1.348346326881292, 1.9772981348706449, 1.3473324255264607, 0.719700781037268, 0.7196978868073722, 0.7196236892773183, 0.719213629523457, 0.719146470234286, 0.7191363404296509, 0.7190743775987017, 0.7190591828917492, 0.7190472113044533, 0.7189961676135652, 0.7189849853616954, 1.3535944738477648, 1.3531085522216657, 3.877645075656881, 0.7238732985709078, 0.723842711229637, 0.7238400464233898, 0.7237792193242716, 0.7236777828951705, 0.7236440673030878, 0.7235921615118402, 0.723578258174899, 0.723531739926716, 0.7235038173916922, 0.7234741569395507, 0.7233541247972908, 0.723270125469937, 0.7231879219902714, 0.7230963337581705, 0.7230519010105289, 0.7230257743231933, 0.7230068889571813, 0.7230054406929166, 0.7229830794926694, 0.7229869608408988, 0.722940442592716, 0.722848564707762, 0.722832517939709, 0.7228144436016852, 0.7227936465268439, 0.7217298674591213, 1.353019223281818, 1.3559671941579419, 1.3565343344440064, 0.7255192798730481, 0.7243577140021715, 0.724067423912951, 0.7240582129522273, 0.7238636241656194, 0.723776612448595, 0.7236780725480234, 0.7236411128439878, 0.7233716777601792, 0.7233404531826318, 0.7232676344554017, 1.3003367866765096, 1.2999551190145893, 1.9092154046009862, 0.6947529531090758, 0.6946934564036924, 0.6946039891587507, 0.69448978510933, 0.6941341379982289, 0.6940818500222944, 0.6940350920305948, 0.6939769284464108, 0.6939599928696917, 0.6939551541334862, 0.6939155554963762, 0.6938709699984831, 0.6938683531309434, 0.6938228295107247, 0.6938154232818388, 0.6938072764300643, 0.6937575559468102, 0.6936649287108773, 0.6925803605528253, 0.6924904983090097, 0.6923086507024311, 0.6922947269921256, 0.6922759151707554, 0.6922689039407434, 0.6922522152383205, 0.6922552764795933, 0.6921635379911266, 0.6947626305814868, 0.6947381900261633, 0.6943880235244377, 0.6943336124295559, 0.6941723541392801, 0.6941714653918138, 0.6940077877334354, 0.6939478960291781, 0.6939402923008552, 3.622598499429134, 0.675101510588829, 0.6750097464554794, 0.6749029320606704, 0.6748414099887486, 0.6747811617634081, 0.6746681668537051, 0.6745720150265759, 0.6745497934806594, 0.6745172396235842, 0.674503982183239, 0.6744612847330174, 0.6743504600804527, 0.6743425811034505, 0.6741402282150514, 0.6738438937566613, 0.6734931613313035, 0.6732780227975894, 0.6730751037551542, 0.6729973047546949, 0.6729833868013076, 0.6729647508976196, 0.6729680534628302, 0.6729275262697468, 0.6729204021647927, 0.6728867631791483, 0.6727010646553109, 0.6724849825315365, 1.2632352504628352, 0.6748835884644374, 0.6775316324297388, 0.6768730065677543, 0.6752712152611469, 0.6751321772657838, 0.6750868377633936, 0.6749809197791419, 0.6747219514871337, 0.6743596600835392, 0.6743574426468978, 0.6742936559588317, 0.6742235943968655, 1.2809566005994295, 0.6836752572544433, 0.6836669702082231, 0.6835703031800602, 0.6834648482402461, 0.6833895818259488, 0.6833005188456913, 0.683258537215938, 0.6832284852900843, 0.6831889169210434, 0.6831587283955268, 0.6831079588541223, 0.683094845286477, 0.6830454872749233, 0.6829875690178233, 0.6829113464058852, 0.6817172376854085, 0.6816773050505999, 0.6816457049952324, 0.6815460327744841, 0.6815192592405417, 0.6814443570920122, 0.681426143803616, 0.6814144417658214, 0.6813633990250911, 0.6811691543043454, 0.6811588637964017, 1.2815149289552155, 1.2810628751372215, 0.6835430287806868, 1.281333433536347, 1.2784162111339257, 0.6844862494535058, 0.6843738279308801, 0.6834812857330237, 0.6832896364058746, 0.6831295416008718, 0.6820076485688862, 1.1399852589098456, 1.1380787590505512, 0.608078515067091, 0.6080338928518249, 0.6080327537283717, 0.608024190662414, 0.6078063038419198, 0.6077360709890185, 0.6077231085497246, 0.607715173965672, 0.6076549575431341, 0.6074967372235108, 0.6073756366164108, 0.6068442944457195, 0.6067717047856738, 0.6065657198412585, 0.6062996363146627, 0.606175471858275, 0.6060813174128586, 0.6060678443320169, 0.606032099423661, 0.6059348025687189, 0.6058749396672527, 0.605834363304251, 1.1385108403603468, 1.1398579913240512, 0.6063676302007768, 0.6078114495375182, 0.6077758224695197, 0.6061744112950601, 1.1403634478962739, 1.1415863951234715, 0.6091836612171908, 0.6089068542180881, 0.6084023796488423, 0.6066531966664326], \"Total\": [7.0, 4.0, 9.0, 4.0, 5.0, 6.0, 5.0, 3.0, 2.0, 2.0, 1.0, 1.0, 2.0, 1.0, 2.0, 3.0, 2.0, 1.0, 1.0, 3.0, 3.0, 1.0, 1.0, 5.0, 2.0, 1.0, 1.0, 1.0, 1.0, 3.0, 7.960444343575953, 1.8432236970105327, 1.8432120408551946, 1.8431684392787573, 1.8430809540748383, 5.469955782690364, 1.222739043097504, 1.2227367910392397, 1.222741643502304, 1.2227275243379163, 1.222734828678585, 1.22273043223354, 1.2227228429777515, 1.222726208452424, 1.222715441754482, 1.2227195322100453, 1.2227202933849157, 1.2227148611983332, 1.2227057108894719, 1.2227117816410138, 1.2227044709628738, 1.222708758267742, 1.222707396455061, 1.2226980773886078, 1.2226974800288426, 1.222700647234298, 1.222681142939458, 1.222662519956004, 1.2226364210240148, 1.2226406293581484, 6.660336167230077, 9.810041043008878, 3.068183647668054, 3.1101537775042325, 5.538752667943784, 1.8527452013654282, 3.074004279585325, 1.8139985660329054, 3.583203797729663, 4.381461128662311, 1.8622402061203094, 1.8622330274049597, 1.8622265783384437, 1.8621636469476426, 1.2322661544698046, 1.232257423455012, 1.2322465611110867, 1.2322440279688165, 1.2322499932453765, 1.2322409725928383, 1.232236064255301, 1.232238744729991, 1.2322351685113533, 1.2322392339697206, 1.2322289441987762, 1.2322270064859828, 1.2322209382271798, 1.2322236668290727, 1.2322227596145598, 1.2322235531338788, 1.2322169531740073, 1.2322118253920915, 1.232210794491988, 1.2321997175700738, 1.2321328677643577, 1.2321295125805545, 1.2321173475578824, 1.2321094693166514, 1.2321093869378232, 9.810041043008878, 2.453331636004292, 3.074004279585325, 3.129648146834633, 6.660336167230077, 5.538752667943784, 3.583203797729663, 2.298032092198891, 1.831113807585612, 1.823498232494864, 1.8310835161447188, 1.8526731501733187, 2.4147346449173437, 1.865932721963162, 1.8527452013654282, 1.8659396892051792, 1.840495465737444, 1.8695234243149164, 1.869543048827481, 5.59410194419283, 1.236009724819968, 1.2360048024171082, 1.2360063698032902, 1.2360030638977575, 1.235993878598496, 1.2359913187654337, 1.2359801402819743, 1.2359848625325096, 1.2359852162056948, 1.2359805264356947, 1.2359780578556454, 1.2359764632567998, 1.2359720483904562, 1.2359710589507358, 1.235950145394393, 1.23596136913327, 1.235953733330058, 1.235950918307577, 1.235949521642691, 1.2359377992231824, 1.2359573274718374, 1.235944369875996, 1.2359426451513322, 1.2359331137479421, 1.2359303672245363, 1.2359338000620352, 1.2358635953204866, 3.1101537775042325, 3.129648146834633, 5.538752667943784, 5.469955782690364, 2.4337038031195393, 1.8442812767433245, 2.4354991715597447, 1.8442805659988886, 1.8348286206788855, 1.8272525417692627, 3.068183647668054, 1.8347774073773877, 1.8659396892051792, 1.865932721963162, 1.8187568959019853, 1.8187690533068086, 3.0474641497260975, 1.210530572047568, 1.21052951415198, 1.2105175227063194, 1.2105253277414423, 1.2105132687493936, 1.2105184325075378, 1.2105131847787187, 1.2105140750291552, 1.2105119187136826, 1.210509679931715, 1.210503474913379, 1.2105030860093506, 1.2105075825865081, 1.2104998390024386, 1.2105076283219773, 1.2104963159988114, 1.2105008871829392, 1.2104956310654291, 1.210477213983189, 1.210492365451091, 1.2104552569425737, 1.2104710280157316, 1.2104776383221847, 1.210468329339249, 1.2104694477984546, 1.2104823614296198, 1.2104579121820929, 1.8017854221966245, 1.8442805659988886, 1.8404805551541323, 1.7433538907328394, 1.7433484741246925, 1.840495465737444, 1.8442812767433245, 2.4354991715597447, 1.7435517886535044, 4.1497882322041155, 1.1934967975636044, 1.1934978151514837, 1.1934968577671978, 1.1934966537906662, 1.1935027522072796, 1.1935006566771305, 1.1935073158985956, 1.1934998955168872, 1.193506547824667, 1.193498919331519, 1.1935065035672598, 1.1934955105609104, 1.1934997816798054, 1.1935069898069683, 1.193497333306974, 1.193516436064758, 1.1935204355021296, 1.193510878120171, 1.1935281089436436, 1.1935267237217924, 1.193512969060532, 1.1935229140791905, 1.193521275373727, 1.1935235754300868, 1.193509345954674, 1.193510416213225, 1.1935078747584442, 2.4147346449173437, 1.7265327265354846, 5.59410194419283, 5.538752667943784, 3.074004279585325, 2.453331636004292, 2.4354991715597447, 3.068183647668054, 1.823498232494864, 1.8234647375193438, 1.8139985660329054, 1.8017854221966245, 1.7923657979485306, 1.7999433366485351, 1.201094739438783, 1.2010989863486414, 1.2010871160927268, 1.2010896449689685, 1.2010990424431383, 1.2010936104447996, 1.2010994760704623, 1.201099097918466, 1.2010885694049869, 1.2010918814289704, 1.201090816966825, 1.2010905124374205, 1.2010890629674997, 1.2010840763497148, 1.201098736380673, 1.201092952015106, 1.2010925020331085, 1.2010984471472066, 1.2010995079750042, 1.2010790609069557, 1.201080164796931, 1.2010844803798426, 1.2010877477487911, 1.201092460118381, 1.2010925275114002, 1.2010908899778712, 2.4298071540878587, 2.4337038031195393, 1.7923657979485306, 3.583203797729663, 5.538752667943784, 5.469955782690364, 5.59410194419283, 1.8310835161447188, 1.8348286206788855, 1.831113807585612, 1.8309815102411096, 1.6678050947996836, 1.6680632198848564, 1.135013402224947, 1.1350186588276772, 1.135018748505383, 1.1350185069267935, 1.13505464257346, 1.1350617120560966, 1.1350601224373067, 1.1350625026299008, 1.1350721233815602, 1.1350871414779116, 1.1351060930475554, 1.135194881242241, 1.135200529727517, 1.1352314729417845, 1.1352613992447478, 1.1352852416347132, 1.1352906538113894, 1.1353047165247199, 1.135291418454528, 1.1353062979826039, 1.1353215062206248, 1.1353266750598239, 2.298032092198891, 2.3015277528784672, 1.7265327265354846, 1.7433484741246925, 1.7433538907328394, 1.7435517886535044, 6.660336167230077, 9.810041043008878, 7.960444343575953, 5.469955782690364, 3.583203797729663, 1.7556451889427467], \"Category\": [\"Default\", \"Default\", \"Default\", \"Default\", \"Default\", \"Default\", \"Default\", \"Default\", \"Default\", \"Default\", \"Default\", \"Default\", \"Default\", \"Default\", \"Default\", \"Default\", \"Default\", \"Default\", \"Default\", \"Default\", \"Default\", \"Default\", \"Default\", \"Default\", \"Default\", \"Default\", \"Default\", \"Default\", \"Default\", \"Default\", \"Topic1\", \"Topic1\", \"Topic1\", \"Topic1\", \"Topic1\", \"Topic1\", \"Topic1\", \"Topic1\", \"Topic1\", \"Topic1\", \"Topic1\", \"Topic1\", \"Topic1\", \"Topic1\", \"Topic1\", \"Topic1\", \"Topic1\", \"Topic1\", \"Topic1\", \"Topic1\", \"Topic1\", \"Topic1\", \"Topic1\", \"Topic1\", \"Topic1\", \"Topic1\", \"Topic1\", \"Topic1\", \"Topic1\", \"Topic1\", \"Topic1\", \"Topic1\", \"Topic1\", \"Topic1\", \"Topic1\", \"Topic1\", \"Topic1\", \"Topic1\", \"Topic1\", \"Topic2\", \"Topic2\", \"Topic2\", \"Topic2\", \"Topic2\", \"Topic2\", \"Topic2\", \"Topic2\", \"Topic2\", \"Topic2\", \"Topic2\", \"Topic2\", \"Topic2\", \"Topic2\", \"Topic2\", \"Topic2\", \"Topic2\", \"Topic2\", \"Topic2\", \"Topic2\", \"Topic2\", \"Topic2\", \"Topic2\", \"Topic2\", \"Topic2\", \"Topic2\", \"Topic2\", \"Topic2\", \"Topic2\", \"Topic2\", \"Topic2\", \"Topic2\", \"Topic2\", \"Topic2\", \"Topic2\", \"Topic2\", \"Topic2\", \"Topic2\", \"Topic2\", \"Topic2\", \"Topic2\", \"Topic2\", \"Topic2\", \"Topic2\", \"Topic2\", \"Topic2\", \"Topic2\", \"Topic3\", \"Topic3\", \"Topic3\", \"Topic3\", \"Topic3\", \"Topic3\", \"Topic3\", \"Topic3\", \"Topic3\", \"Topic3\", \"Topic3\", \"Topic3\", \"Topic3\", \"Topic3\", \"Topic3\", \"Topic3\", \"Topic3\", \"Topic3\", \"Topic3\", \"Topic3\", \"Topic3\", \"Topic3\", \"Topic3\", \"Topic3\", \"Topic3\", \"Topic3\", \"Topic3\", \"Topic3\", \"Topic3\", \"Topic3\", \"Topic3\", \"Topic3\", \"Topic3\", \"Topic3\", \"Topic3\", \"Topic3\", \"Topic3\", \"Topic3\", \"Topic3\", \"Topic3\", \"Topic3\", \"Topic3\", \"Topic3\", \"Topic3\", \"Topic4\", \"Topic4\", \"Topic4\", \"Topic4\", \"Topic4\", \"Topic4\", \"Topic4\", \"Topic4\", \"Topic4\", \"Topic4\", \"Topic4\", \"Topic4\", \"Topic4\", \"Topic4\", \"Topic4\", \"Topic4\", \"Topic4\", \"Topic4\", \"Topic4\", \"Topic4\", \"Topic4\", \"Topic4\", \"Topic4\", \"Topic4\", \"Topic4\", \"Topic4\", \"Topic4\", \"Topic4\", \"Topic4\", \"Topic4\", \"Topic4\", \"Topic4\", \"Topic4\", \"Topic4\", \"Topic4\", \"Topic4\", \"Topic4\", \"Topic4\", \"Topic4\", \"Topic5\", \"Topic5\", \"Topic5\", \"Topic5\", \"Topic5\", \"Topic5\", \"Topic5\", \"Topic5\", \"Topic5\", \"Topic5\", \"Topic5\", \"Topic5\", \"Topic5\", \"Topic5\", \"Topic5\", \"Topic5\", \"Topic5\", \"Topic5\", \"Topic5\", \"Topic5\", \"Topic5\", \"Topic5\", \"Topic5\", \"Topic5\", \"Topic5\", \"Topic5\", \"Topic5\", \"Topic5\", \"Topic5\", \"Topic5\", \"Topic5\", \"Topic5\", \"Topic5\", \"Topic5\", \"Topic5\", \"Topic5\", \"Topic5\", \"Topic5\", \"Topic5\", \"Topic5\", \"Topic5\", \"Topic6\", \"Topic6\", \"Topic6\", \"Topic6\", \"Topic6\", \"Topic6\", \"Topic6\", \"Topic6\", \"Topic6\", \"Topic6\", \"Topic6\", \"Topic6\", \"Topic6\", \"Topic6\", \"Topic6\", \"Topic6\", \"Topic6\", \"Topic6\", \"Topic6\", \"Topic6\", \"Topic6\", \"Topic6\", \"Topic6\", \"Topic6\", \"Topic6\", \"Topic6\", \"Topic6\", \"Topic6\", \"Topic6\", \"Topic6\", \"Topic6\", \"Topic6\", \"Topic6\", \"Topic6\", \"Topic6\", \"Topic6\", \"Topic6\", \"Topic6\", \"Topic7\", \"Topic7\", \"Topic7\", \"Topic7\", \"Topic7\", \"Topic7\", \"Topic7\", \"Topic7\", \"Topic7\", \"Topic7\", \"Topic7\", \"Topic7\", \"Topic7\", \"Topic7\", \"Topic7\", \"Topic7\", \"Topic7\", \"Topic7\", \"Topic7\", \"Topic7\", \"Topic7\", \"Topic7\", \"Topic7\", \"Topic7\", \"Topic7\", \"Topic7\", \"Topic7\", \"Topic7\", \"Topic7\", \"Topic7\", \"Topic7\", \"Topic7\", \"Topic7\", \"Topic7\", \"Topic7\", \"Topic7\"], \"logprob\": [30.0, 29.0, 28.0, 27.0, 26.0, 25.0, 24.0, 23.0, 22.0, 21.0, 20.0, 19.0, 18.0, 17.0, 16.0, 15.0, 14.0, 13.0, 12.0, 11.0, 10.0, 9.0, 8.0, 7.0, 6.0, 5.0, 4.0, 3.0, 2.0, 1.0, -2.3366, -3.9848, -3.985, -3.9858, -3.9878, -3.1105, -4.6132, -4.6132, -4.6133, -4.6134, -4.6134, -4.6135, -4.6136, -4.6137, -4.6137, -4.6137, -4.6138, -4.6139, -4.6141, -4.6142, -4.6142, -4.6142, -4.6142, -4.6143, -4.6143, -4.6144, -4.6146, -4.6159, -4.616, -4.6162, -3.1091, -3.1094, -3.9849, -3.9876, -4.6101, -4.6127, -4.6129, -4.613, -4.6133, -2.909, -3.9587, -3.9588, -3.959, -3.9595, -4.5867, -4.5868, -4.5869, -4.5869, -4.587, -4.5871, -4.5871, -4.5872, -4.5874, -4.5874, -4.5875, -4.5875, -4.5876, -4.5876, -4.5876, -4.5877, -4.5878, -4.5878, -4.5879, -4.5881, -4.5895, -4.5898, -4.59, -4.5902, -4.5903, -2.6242, -3.961, -3.9584, -3.9586, -3.5757, -3.9593, -4.5864, -4.5864, -4.5865, -4.587, -4.5871, -4.5871, -4.5872, -4.5872, -4.5873, -4.5873, -4.5873, -3.8276, -3.828, -2.7752, -4.4535, -4.4536, -4.4536, -4.4537, -4.4538, -4.4539, -4.4539, -4.4539, -4.454, -4.454, -4.4541, -4.4543, -4.4544, -4.4545, -4.4546, -4.4547, -4.4547, -4.4547, -4.4547, -4.4548, -4.4548, -4.4548, -4.455, -4.455, -4.455, -4.455, -4.4565, -3.8281, -3.8259, -3.8255, -4.4513, -4.4529, -4.4533, -4.4533, -4.4535, -4.4537, -4.4538, -4.4539, -4.4542, -4.4543, -4.4544, -3.708, -3.7083, -3.3239, -4.3348, -4.3349, -4.335, -4.3352, -4.3357, -4.3358, -4.3358, -4.3359, -4.3359, -4.3359, -4.336, -4.3361, -4.3361, -4.3361, -4.3361, -4.3362, -4.3362, -4.3364, -4.3379, -4.3381, -4.3383, -4.3383, -4.3384, -4.3384, -4.3384, -4.3384, -4.3385, -4.3348, -4.3348, -4.3353, -4.3354, -4.3356, -4.3356, -4.3359, -4.3359, -4.336, -2.6379, -4.318, -4.3181, -4.3183, -4.3184, -4.3185, -4.3186, -4.3188, -4.3188, -4.3189, -4.3189, -4.319, -4.3191, -4.3191, -4.3194, -4.3199, -4.3204, -4.3207, -4.321, -4.3211, -4.3211, -4.3212, -4.3212, -4.3212, -4.3212, -4.3213, -4.3216, -4.3219, -3.6914, -4.3183, -4.3144, -4.3154, -4.3177, -4.318, -4.318, -4.3182, -4.3186, -4.3191, -4.3191, -4.3192, -4.3193, -3.642, -4.2699, -4.2699, -4.27, -4.2702, -4.2703, -4.2704, -4.2705, -4.2705, -4.2706, -4.2706, -4.2707, -4.2707, -4.2708, -4.2709, -4.271, -4.2727, -4.2728, -4.2728, -4.273, -4.273, -4.2731, -4.2732, -4.2732, -4.2733, -4.2735, -4.2736, -3.6415, -3.6419, -4.2701, -3.6417, -3.644, -4.2687, -4.2688, -4.2701, -4.2704, -4.2707, -4.2723, -3.6109, -3.6125, -4.2393, -4.2394, -4.2394, -4.2394, -4.2398, -4.2399, -4.2399, -4.2399, -4.24, -4.2403, -4.2405, -4.2414, -4.2415, -4.2418, -4.2422, -4.2425, -4.2426, -4.2426, -4.2427, -4.2429, -4.2429, -4.243, -3.6121, -3.611, -4.2421, -4.2398, -4.2398, -4.2425, -3.6105, -3.6094, -4.2375, -4.238, -4.2388, -4.2417], \"loglift\": [30.0, 29.0, 28.0, 27.0, 26.0, 25.0, 24.0, 23.0, 22.0, 21.0, 20.0, 19.0, 18.0, 17.0, 16.0, 15.0, 14.0, 13.0, 12.0, 11.0, 10.0, 9.0, 8.0, 7.0, 6.0, 5.0, 4.0, 3.0, 2.0, 1.0, 1.5779, 1.3927, 1.3924, 1.3916, 1.3897, 1.1792, 1.1747, 1.1747, 1.1746, 1.1745, 1.1745, 1.1744, 1.1743, 1.1742, 1.1742, 1.1741, 1.1741, 1.174, 1.1738, 1.1737, 1.1737, 1.1737, 1.1737, 1.1736, 1.1736, 1.1735, 1.1733, 1.172, 1.172, 1.1717, 0.9837, 0.5961, 0.883, 0.8667, -0.3329, 0.7596, 0.2531, 0.7804, 0.0994, 1.6026, 1.4085, 1.4084, 1.4082, 1.4077, 1.1934, 1.1933, 1.1932, 1.1932, 1.1931, 1.193, 1.193, 1.1929, 1.1927, 1.1927, 1.1926, 1.1926, 1.1926, 1.1925, 1.1925, 1.1925, 1.1924, 1.1923, 1.1923, 1.1921, 1.1907, 1.1904, 1.1902, 1.19, 1.1899, 1.0813, 1.1305, 0.9076, 0.8895, 0.5171, 0.3179, 0.1264, 0.5706, 0.7976, 0.8012, 0.7969, 0.7852, 0.5201, 0.778, 0.785, 0.7779, 0.7916, 1.5356, 1.5353, 1.4921, 1.3235, 1.3235, 1.3235, 1.3234, 1.3233, 1.3232, 1.3232, 1.3232, 1.3231, 1.3231, 1.323, 1.3228, 1.3227, 1.3226, 1.3225, 1.3224, 1.3224, 1.3224, 1.3224, 1.3224, 1.3224, 1.3223, 1.3222, 1.3222, 1.3221, 1.3221, 1.3207, 1.0262, 1.0222, 0.4517, -0.1616, 0.6467, 0.9236, 0.6455, 0.9233, 0.9283, 0.9323, 0.414, 0.9278, 0.9109, 0.9108, 1.6828, 1.6825, 1.5508, 1.4631, 1.463, 1.4629, 1.4627, 1.4622, 1.4622, 1.4621, 1.462, 1.462, 1.462, 1.4619, 1.4619, 1.4619, 1.4618, 1.4618, 1.4618, 1.4617, 1.4616, 1.46, 1.4599, 1.4597, 1.4596, 1.4596, 1.4596, 1.4596, 1.4596, 1.4594, 1.0654, 1.0421, 1.0436, 1.0978, 1.0975, 1.0433, 1.041, 0.7629, 1.0971, 1.928, 1.4941, 1.4939, 1.4938, 1.4937, 1.4936, 1.4934, 1.4933, 1.4933, 1.4932, 1.4932, 1.4931, 1.493, 1.4929, 1.4926, 1.4922, 1.4917, 1.4913, 1.4911, 1.4909, 1.4909, 1.4909, 1.4909, 1.4908, 1.4908, 1.4908, 1.4905, 1.4902, 1.4159, 1.1245, -0.0472, -0.0382, 0.5482, 0.7736, 0.7808, 0.5497, 1.0696, 1.0691, 1.0743, 1.081, 1.0861, 1.7592, 1.5359, 1.5358, 1.5357, 1.5356, 1.5354, 1.5353, 1.5353, 1.5352, 1.5352, 1.5351, 1.535, 1.535, 1.5349, 1.5349, 1.5347, 1.533, 1.5329, 1.5329, 1.5327, 1.5327, 1.5326, 1.5326, 1.5326, 1.5325, 1.5322, 1.5322, 1.4596, 1.4576, 1.1354, 1.071, 0.6332, 0.021, -0.0016, 1.1139, 1.1116, 1.1134, 1.1118, 1.8666, 1.8648, 1.623, 1.6229, 1.6229, 1.6229, 1.6225, 1.6224, 1.6224, 1.6224, 1.6222, 1.622, 1.6218, 1.6208, 1.6207, 1.6203, 1.6198, 1.6196, 1.6195, 1.6194, 1.6194, 1.6192, 1.6191, 1.619, 1.5448, 1.5444, 1.2007, 1.1934, 1.1933, 1.1906, 0.4823, 0.0961, -0.323, 0.0517, 0.4739, 1.1845]}, \"token.table\": {\"Topic\": [1, 2, 6, 5, 5, 3, 1, 3, 7, 1, 4, 2, 3, 7, 1, 1, 3, 7, 2, 5, 7, 1, 4, 4, 5, 3, 1, 3, 6, 6, 5, 1, 2, 7, 2, 2, 2, 5, 4, 3, 2, 7, 6, 5, 3, 3, 4, 6, 7, 2, 7, 1, 1, 1, 7, 4, 2, 1, 7, 1, 5, 2, 6, 3, 2, 2, 2, 6, 2, 1, 5, 4, 1, 2, 2, 6, 2, 1, 2, 4, 5, 2, 1, 2, 6, 7, 4, 4, 2, 1, 6, 1, 3, 4, 4, 1, 7, 3, 6, 5, 1, 2, 6, 5, 3, 7, 4, 5, 2, 1, 3, 6, 5, 1, 5, 2, 3, 4, 2, 6, 4, 6, 1, 2, 7, 7, 2, 1, 4, 1, 1, 2, 2, 6, 5, 6, 1, 5, 5, 5, 2, 5, 3, 3, 4, 5, 4, 1, 2, 5, 2, 6, 7, 1, 3, 4, 5, 2, 1, 3, 6, 7, 3, 1, 2, 7, 2, 3, 2, 6, 2, 1, 5, 4, 2, 6, 5, 5, 7, 3, 6, 2, 7, 2, 3, 5, 6, 3, 7, 5, 4, 1, 2, 3, 5, 6, 4, 1, 4, 4, 4, 7, 5, 1, 7, 2, 3, 7, 3, 6, 2, 3, 5, 3, 4, 7, 4, 7, 4, 7, 6, 6, 6, 4, 3, 4, 5, 6, 2, 4, 1, 7, 4, 4, 6, 7, 3, 5, 4, 6, 4, 6, 3, 5, 6, 1, 7, 3, 3, 3, 5, 2, 6, 2, 5, 3, 1, 3, 7, 4, 7, 3, 5, 4, 5, 6, 2, 1, 2, 7, 3, 6, 3, 4, 7, 3, 4, 1, 3, 5, 6, 7, 3, 6, 3, 2, 1, 3, 5, 5, 2, 5, 6, 7], \"Freq\": [0.5397606155767138, 0.5397606155767138, 0.8325846587025525, 0.837857459540931, 0.8378662773401403, 0.8090758518277789, 0.8178591178394112, 0.8090945321706243, 0.8808544011672266, 0.8178871795595597, 0.8260876307856909, 0.5359230021126582, 0.5359230021126582, 0.880974920428081, 0.8178747221012108, 0.32152751006493896, 0.32152751006493896, 0.8810427152122565, 0.5484065468468604, 0.5484065468468604, 0.880807766364704, 0.3281416780866409, 0.6562833561732818, 0.8260840519777511, 0.8378740538235148, 0.8090768956594842, 0.5425277472408091, 0.41089634602131647, 0.41089634602131647, 0.8325753237945347, 0.8378644931921116, 0.81786167551474, 0.8116110060312434, 0.8808317030029336, 0.8116007828071733, 0.811545399877959, 0.41412417803540064, 0.41412417803540064, 0.8261043098672864, 0.8091052734783684, 0.8115259003833813, 0.8810106004364835, 0.8325809019559975, 0.8378725642752168, 0.8090742358892883, 0.8090804333630103, 0.8261028092845981, 0.8325705072086262, 0.8808207923781899, 0.4351549325158213, 0.4351549325158213, 0.5425311780927984, 0.8178571610012778, 0.8178485344605279, 0.8808776217317582, 0.8261336391261218, 0.5369897243168917, 0.5695911715522669, 0.5695911715522669, 0.8178562500989508, 0.8378672088750918, 0.8116162498244677, 0.8325753705101429, 0.8090594831104078, 0.9129374613945797, 0.8115387787610346, 0.5461551601732542, 0.5461551601732542, 0.811542775306772, 0.5512683519849377, 0.5512683519849377, 0.8261257661800167, 0.8178521679371269, 0.8115334033259954, 0.4115552949614211, 0.4115552949614211, 0.8115129969063059, 0.817858288461365, 0.5433363570180475, 0.5433363570180475, 0.8378641689257507, 0.8115295808544939, 0.27907985603096463, 0.27907985603096463, 0.27907985603096463, 0.27907985603096463, 0.8261265295109901, 0.8260967814861523, 0.8116029928587737, 0.8178633944822765, 0.8325745731256294, 0.8178517796136554, 0.809065495642995, 0.8260929571381409, 0.5498224187297681, 0.5425440120878512, 0.5994976617666975, 0.5450252417427517, 0.5450252417427517, 0.8378719588809125, 0.8178445780316402, 0.8115375025947172, 0.8325777253597879, 0.9639046081817633, 0.5348900634447379, 0.8810429027343587, 0.5550050453737506, 0.5550050453737506, 0.8115310480836412, 0.5425697649303554, 0.8090797856652578, 0.832575029536451, 0.8378733394439234, 0.8179046385371487, 0.8378749573427614, 0.8115275686491753, 0.5422166415774842, 0.5422166415774842, 0.5461157006502699, 0.5461157006502699, 0.8261354513225447, 0.8325786370515463, 0.3058091181114832, 0.5096818635191387, 0.10193637270382774, 0.8808311097438751, 0.8115494560427681, 0.8179018233059796, 0.8261050251969388, 0.8178542278032931, 0.817849043592619, 0.8115328134015845, 0.8115487770796215, 0.832576720609224, 0.8378698734884247, 0.8325838934898006, 0.8178342541239504, 0.8378520727803138, 0.8378568699471823, 0.8378668985941463, 0.5483964734266977, 0.5483964734266977, 0.8090744886660248, 0.4105934469932827, 0.4105934469932827, 0.4105934469932827, 0.8261074294760448, 0.3253085907007577, 0.3253085907007577, 0.3253085907007577, 0.537009731469705, 0.8325811820261232, 0.8810148538159744, 0.8178436978765821, 0.8091507863703017, 0.8261078969114829, 0.8378602671758613, 0.8115409782489712, 0.5484505029260892, 0.1828168343086964, 0.1828168343086964, 0.1828168343086964, 0.8090894222420362, 0.45042771485927113, 0.3002851432395141, 0.15014257161975705, 0.8115236400742841, 0.8091048241821747, 0.8116161955598123, 0.8325790749076669, 0.5369915839630223, 0.8178359934158557, 0.8378627010539694, 0.8260923362633498, 0.536987654285129, 0.8325753414556198, 0.8378713446074987, 0.5791955082175776, 0.5791955082175776, 0.8090583451167976, 0.8325708077877695, 0.8115415757397637, 0.8808037562821351, 0.3195247366741252, 0.3195247366741252, 0.8378740115586119, 0.832570485093239, 0.8090979047061247, 0.8809896293054428, 0.8378652445323852, 0.8261204659188967, 0.1805460651434435, 0.1805460651434435, 0.1805460651434435, 0.1805460651434435, 0.1805460651434435, 0.8260997406255699, 0.8178374997206641, 0.8260847739020526, 0.8260983093141478, 0.8260997094138217, 0.8810093666084108, 0.8378552553012197, 0.8178417528819641, 0.8808195654132828, 0.5359250032058457, 0.5359250032058457, 0.881008752983236, 0.5450100291274074, 0.5450100291274074, 0.8115410531284918, 0.534895678221549, 0.8378672399447425, 0.5422168505356374, 0.5422168505356374, 0.880835902138643, 0.8261201763182318, 0.8809016326305192, 0.5736087849573988, 0.5736087849573988, 0.832575771647273, 0.8325707693337081, 0.5555730447948343, 0.8261169529302078, 0.8090990337804529, 0.826110125549903, 0.5579218266408339, 0.5579218266408339, 0.5433319552348493, 0.5433319552348493, 0.8793478979158961, 0.12562112827369945, 0.8260959174788333, 0.5498260939948574, 0.8325737905298416, 0.5995904456210501, 0.5472697271673986, 0.5472697271673986, 0.8261025438787426, 0.8325712204317254, 0.8260953099416998, 0.8325765095143681, 0.7150388105015412, 0.1787597026253853, 0.1787597026253853, 0.8178388122637387, 0.8809060158073497, 0.8091070714976016, 0.8090671712798494, 0.8090936178673896, 0.837853045201774, 0.546124734990496, 0.546124734990496, 0.40760897765484594, 0.40760897765484594, 0.8090573191456526, 0.8178637940567365, 0.43449400023498447, 0.43449400023498447, 0.5736070027524005, 0.5736070027524005, 0.8090941238417824, 0.8378557195707511, 0.8260958601743547, 0.8378718789639398, 0.8325780674903891, 0.8115307258789755, 0.5397396248890697, 0.5397396248890697, 0.8810012856459211, 0.8090711659722459, 0.8325764589043082, 0.8090713974854181, 0.5735418967808645, 0.5735418967808645, 0.8091022061373354, 0.8261246877087617, 0.8178468291020518, 0.809086776475271, 0.837874154756864, 0.8325773219249061, 0.8810468652085671, 0.8090551230457801, 0.8325708466710264, 0.8090917750664318, 0.8115567515078018, 0.32592573158390997, 0.32592573158390997, 0.32592573158390997, 0.8378666696710583, 0.8115187467860351, 0.8378736777141961, 0.8325710199424127, 0.8810427848233496], \"Term\": [\"abuse\", \"abuse\", \"acceptance\", \"accessibility\", \"achievement\", \"activities\", \"activity\", \"addiction\", \"adulting\", \"affordable\", \"aid\", \"alcohol\", \"alcohol\", \"analyze\", \"anti\", \"anxiety\", \"anxiety\", \"ar\", \"attention\", \"attention\", \"avatar\", \"awareness\", \"awareness\", \"away\", \"balance\", \"behavior\", \"better\", \"body\", \"body\", \"brain\", \"brave\", \"breaks\", \"bulling\", \"bully\", \"burn\", \"buy\", \"care\", \"care\", \"changes\", \"cheaper\", \"check\", \"childhood\", \"chocolate\", \"close\", \"cognitive\", \"cold\", \"communicating\", \"company\", \"compare\", \"confidence\", \"confidence\", \"connections\", \"contributing\", \"coverage\", \"crime\", \"criminalisation\", \"crisis\", \"cry\", \"cry\", \"culture\", \"day\", \"deadline\", \"death\", \"definition\", \"depression\", \"device\", \"disease\", \"disease\", \"disorder\", \"disorders\", \"disorders\", \"doctor\", \"drug\", \"eating\", \"education\", \"education\", \"elderly\", \"emergency\", \"emotional\", \"emotional\", \"empathy\", \"enjoy\", \"enough\", \"enough\", \"enough\", \"enough\", \"entertainment\", \"environmental\", \"equality\", \"equipment\", \"evaluation\", \"everyday\", \"everyone\", \"everything\", \"exercise\", \"exercises\", \"expectation\", \"expectations\", \"expectations\", \"eyes\", \"factors\", \"failing\", \"fair\", \"family\", \"finance\", \"find\", \"first\", \"first\", \"food\", \"friends\", \"fun\", \"funding\", \"game\", \"games\", \"genetic\", \"genocide\", \"go\", \"go\", \"good\", \"good\", \"group\", \"hangout\", \"health\", \"health\", \"health\", \"healthcare\", \"healthy\", \"help\", \"hormonal\", \"hotline\", \"hours\", \"hurting\", \"identity\", \"improve\", \"increase\", \"inprivacy\", \"insurance\", \"iphone\", \"isolation\", \"issue\", \"issues\", \"issues\", \"know\", \"lack\", \"lack\", \"lack\", \"lacking\", \"life\", \"life\", \"life\", \"listen\", \"looking\", \"low\", \"making\", \"malnutrition\", \"management\", \"manifestations\", \"masculinity\", \"media\", \"media\", \"media\", \"media\", \"medication\", \"mental\", \"mental\", \"mental\", \"mid\", \"mom\", \"motivation\", \"movies\", \"music\", \"new\", \"news\", \"openly\", \"others\", \"outlook\", \"paper\", \"parents\", \"parents\", \"park\", \"party\", \"peer\", \"phone\", \"physical\", \"physical\", \"play\", \"policy\", \"poor\", \"positive\", \"poverty\", \"pray\", \"pressure\", \"pressure\", \"pressure\", \"pressure\", \"pressure\", \"problems\", \"professionals\", \"put\", \"quo\", \"raising\", \"reasons\", \"recognition\", \"reduce\", \"regret\", \"relationship\", \"relationship\", \"representaions\", \"representation\", \"representation\", \"repression\", \"resources\", \"responders\", \"rest\", \"rest\", \"rolemodels\", \"sad\", \"school\", \"self\", \"self\", \"selfblame\", \"sensibility\", \"shaming\", \"shopping\", \"shower\", \"sibilings\", \"sleep\", \"sleep\", \"sleeping\", \"sleeping\", \"social\", \"social\", \"society\", \"solution\", \"solutions\", \"someone\", \"sports\", \"sports\", \"status\", \"stereotypes\", \"stigma\", \"stop\", \"stress\", \"stress\", \"stress\", \"stresses\", \"study\", \"succeed\", \"success\", \"surfing\", \"sweet\", \"system\", \"system\", \"taboo\", \"taboo\", \"take\", \"taking\", \"talk\", \"talk\", \"therapists\", \"therapists\", \"therapy\", \"thinking\", \"time\", \"topic\", \"tour\", \"toxic\", \"training\", \"training\", \"trauma\", \"treament\", \"triggerwarnings\", \"typ\", \"understanding\", \"understanding\", \"unease\", \"unemployed\", \"unhealthy\", \"unrealistic\", \"video\", \"videos\", \"vr\", \"walk\", \"watch\", \"web\", \"wellbeing\", \"work\", \"work\", \"work\", \"workplace\", \"worried\", \"writing\", \"xd\", \"xr\"]}, \"R\": 30, \"lambda.step\": 0.01, \"plot.opts\": {\"xlab\": \"PC1\", \"ylab\": \"PC2\"}, \"topic.order\": [4, 1, 7, 5, 3, 2, 6]};\n",
       "\n",
       "function LDAvis_load_lib(url, callback){\n",
       "  var s = document.createElement('script');\n",
       "  s.src = url;\n",
       "  s.async = true;\n",
       "  s.onreadystatechange = s.onload = callback;\n",
       "  s.onerror = function(){console.warn(\"failed to load library \" + url);};\n",
       "  document.getElementsByTagName(\"head\")[0].appendChild(s);\n",
       "}\n",
       "\n",
       "if(typeof(LDAvis) !== \"undefined\"){\n",
       "   // already loaded: just create the visualization\n",
       "   !function(LDAvis){\n",
       "       new LDAvis(\"#\" + \"ldavis_el153011405471956484806752473703\", ldavis_el153011405471956484806752473703_data);\n",
       "   }(LDAvis);\n",
       "}else if(typeof define === \"function\" && define.amd){\n",
       "   // require.js is available: use it to load d3/LDAvis\n",
       "   require.config({paths: {d3: \"https://d3js.org/d3.v5\"}});\n",
       "   require([\"d3\"], function(d3){\n",
       "      window.d3 = d3;\n",
       "      LDAvis_load_lib(\"https://cdn.jsdelivr.net/gh/bmabey/pyLDAvis@3.3.1/pyLDAvis/js/ldavis.v3.0.0.js\", function(){\n",
       "        new LDAvis(\"#\" + \"ldavis_el153011405471956484806752473703\", ldavis_el153011405471956484806752473703_data);\n",
       "      });\n",
       "    });\n",
       "}else{\n",
       "    // require.js not available: dynamically load d3 & LDAvis\n",
       "    LDAvis_load_lib(\"https://d3js.org/d3.v5.js\", function(){\n",
       "         LDAvis_load_lib(\"https://cdn.jsdelivr.net/gh/bmabey/pyLDAvis@3.3.1/pyLDAvis/js/ldavis.v3.0.0.js\", function(){\n",
       "                 new LDAvis(\"#\" + \"ldavis_el153011405471956484806752473703\", ldavis_el153011405471956484806752473703_data);\n",
       "            })\n",
       "         });\n",
       "}\n",
       "</script>"
      ],
      "text/plain": [
       "PreparedData(topic_coordinates=              x         y  topics  cluster       Freq\n",
       "topic                                                \n",
       "3      0.065935 -0.187635       1        1  17.901478\n",
       "0     -0.078676  0.166540       2        1  17.701388\n",
       "6      0.013415  0.015321       3        1  15.589593\n",
       "4     -0.185706 -0.005644       4        1  13.287181\n",
       "2      0.101048  0.137583       5        1  12.696392\n",
       "1      0.157885 -0.006381       6        1  12.253364\n",
       "5     -0.073902 -0.119784       7        1  10.570603, topic_info=           Term      Freq     Total Category  logprob  loglift\n",
       "11       social  7.000000  7.000000  Default  30.0000  30.0000\n",
       "58       family  4.000000  4.000000  Default  29.0000  29.0000\n",
       "18       health  9.000000  9.000000  Default  28.0000  28.0000\n",
       "14   depression  4.000000  4.000000  Default  27.0000  27.0000\n",
       "96       stress  5.000000  5.000000  Default  26.0000  26.0000\n",
       "..          ...       ...       ...      ...      ...      ...\n",
       "18       health  1.141586  9.810041   Topic7  -3.6094   0.0961\n",
       "11       social  0.609184  7.960444   Topic7  -4.2375  -0.3230\n",
       "128       media  0.608907  5.469956   Topic7  -4.2380   0.0517\n",
       "45       enough  0.608402  3.583204   Topic7  -4.2388   0.4739\n",
       "102         cry  0.606653  1.755645   Topic7  -4.2417   1.1845\n",
       "\n",
       "[314 rows x 6 columns], token_table=      Topic      Freq           Term\n",
       "term                                \n",
       "229       1  0.539761          abuse\n",
       "229       2  0.539761          abuse\n",
       "175       6  0.832585     acceptance\n",
       "205       5  0.837857  accessibility\n",
       "221       5  0.837866    achievement\n",
       "...     ...       ...            ...\n",
       "103       5  0.837867      workplace\n",
       "75        2  0.811519        worried\n",
       "125       5  0.837874        writing\n",
       "170       6  0.832571             xd\n",
       "91        7  0.881043             xr\n",
       "\n",
       "[294 rows x 3 columns], R=30, lambda_step=0.01, plot_opts={'xlab': 'PC1', 'ylab': 'PC2'}, topic_order=[4, 1, 7, 5, 3, 2, 6])"
      ]
     },
     "execution_count": 19,
     "metadata": {},
     "output_type": "execute_result"
    }
   ],
   "source": [
    "vis = gensimvis.prepare(lda_model, corpus, id2word, mds=\"mmds\", R=30)\n",
    "vis"
   ]
  },
  {
   "cell_type": "code",
   "execution_count": null,
   "id": "07bf46e2",
   "metadata": {},
   "outputs": [],
   "source": []
  },
  {
   "cell_type": "code",
   "execution_count": null,
   "id": "9626a735",
   "metadata": {},
   "outputs": [],
   "source": []
  },
  {
   "cell_type": "code",
   "execution_count": null,
   "id": "81381225",
   "metadata": {},
   "outputs": [],
   "source": []
  },
  {
   "cell_type": "code",
   "execution_count": null,
   "id": "d0c646f2",
   "metadata": {},
   "outputs": [],
   "source": []
  },
  {
   "cell_type": "code",
   "execution_count": null,
   "id": "8c93d9eb",
   "metadata": {},
   "outputs": [],
   "source": []
  },
  {
   "cell_type": "code",
   "execution_count": null,
   "id": "deaf72c8",
   "metadata": {},
   "outputs": [],
   "source": []
  },
  {
   "cell_type": "code",
   "execution_count": null,
   "id": "577fda16",
   "metadata": {},
   "outputs": [],
   "source": []
  },
  {
   "cell_type": "code",
   "execution_count": null,
   "id": "bb2c52b6",
   "metadata": {},
   "outputs": [],
   "source": []
  },
  {
   "cell_type": "code",
   "execution_count": null,
   "id": "39091372",
   "metadata": {},
   "outputs": [],
   "source": []
  },
  {
   "cell_type": "code",
   "execution_count": null,
   "id": "76207956",
   "metadata": {},
   "outputs": [],
   "source": []
  },
  {
   "cell_type": "code",
   "execution_count": null,
   "id": "e160153c",
   "metadata": {},
   "outputs": [],
   "source": []
  },
  {
   "cell_type": "code",
   "execution_count": null,
   "id": "7eeba702",
   "metadata": {},
   "outputs": [],
   "source": []
  },
  {
   "cell_type": "code",
   "execution_count": null,
   "id": "78268141",
   "metadata": {},
   "outputs": [],
   "source": []
  },
  {
   "cell_type": "code",
   "execution_count": null,
   "id": "beb8e230",
   "metadata": {},
   "outputs": [],
   "source": []
  },
  {
   "cell_type": "code",
   "execution_count": null,
   "id": "4e4fc84b",
   "metadata": {},
   "outputs": [],
   "source": []
  },
  {
   "cell_type": "code",
   "execution_count": null,
   "id": "41595270",
   "metadata": {},
   "outputs": [],
   "source": []
  },
  {
   "cell_type": "code",
   "execution_count": null,
   "id": "4c0ce26d",
   "metadata": {},
   "outputs": [],
   "source": []
  },
  {
   "cell_type": "code",
   "execution_count": null,
   "id": "814dee8e",
   "metadata": {},
   "outputs": [],
   "source": []
  },
  {
   "cell_type": "code",
   "execution_count": null,
   "id": "fbfe05d9",
   "metadata": {},
   "outputs": [],
   "source": []
  },
  {
   "cell_type": "code",
   "execution_count": null,
   "id": "9032982a",
   "metadata": {},
   "outputs": [],
   "source": []
  },
  {
   "cell_type": "code",
   "execution_count": null,
   "id": "4a91298a",
   "metadata": {},
   "outputs": [],
   "source": []
  },
  {
   "cell_type": "code",
   "execution_count": null,
   "id": "e108cdcf",
   "metadata": {},
   "outputs": [],
   "source": []
  },
  {
   "cell_type": "code",
   "execution_count": null,
   "id": "37e3e02c",
   "metadata": {},
   "outputs": [],
   "source": []
  },
  {
   "cell_type": "code",
   "execution_count": null,
   "id": "6e107bae",
   "metadata": {},
   "outputs": [],
   "source": []
  },
  {
   "cell_type": "code",
   "execution_count": null,
   "id": "541c68d9",
   "metadata": {},
   "outputs": [],
   "source": []
  },
  {
   "cell_type": "code",
   "execution_count": null,
   "id": "270960c6",
   "metadata": {},
   "outputs": [],
   "source": []
  },
  {
   "cell_type": "code",
   "execution_count": null,
   "id": "85dca9f6",
   "metadata": {},
   "outputs": [],
   "source": []
  },
  {
   "cell_type": "code",
   "execution_count": null,
   "id": "a14edce0",
   "metadata": {},
   "outputs": [],
   "source": []
  },
  {
   "cell_type": "code",
   "execution_count": null,
   "id": "edcce263",
   "metadata": {},
   "outputs": [],
   "source": []
  },
  {
   "cell_type": "code",
   "execution_count": null,
   "id": "c66c446c",
   "metadata": {},
   "outputs": [],
   "source": []
  },
  {
   "cell_type": "code",
   "execution_count": null,
   "id": "7680d70d",
   "metadata": {},
   "outputs": [],
   "source": []
  },
  {
   "cell_type": "code",
   "execution_count": null,
   "id": "792ba742",
   "metadata": {},
   "outputs": [],
   "source": []
  },
  {
   "cell_type": "code",
   "execution_count": null,
   "id": "61a581d1",
   "metadata": {},
   "outputs": [],
   "source": []
  },
  {
   "cell_type": "code",
   "execution_count": null,
   "id": "2d2d9d05",
   "metadata": {},
   "outputs": [],
   "source": []
  },
  {
   "cell_type": "code",
   "execution_count": null,
   "id": "7223bf3c",
   "metadata": {},
   "outputs": [],
   "source": []
  },
  {
   "cell_type": "code",
   "execution_count": null,
   "id": "bb8e6904",
   "metadata": {},
   "outputs": [],
   "source": []
  },
  {
   "cell_type": "code",
   "execution_count": null,
   "id": "fed1cfea",
   "metadata": {},
   "outputs": [],
   "source": []
  },
  {
   "cell_type": "code",
   "execution_count": null,
   "id": "52985fa2",
   "metadata": {},
   "outputs": [],
   "source": []
  }
 ],
 "metadata": {
  "kernelspec": {
   "display_name": "Python 3 (ipykernel)",
   "language": "python",
   "name": "python3"
  },
  "language_info": {
   "codemirror_mode": {
    "name": "ipython",
    "version": 3
   },
   "file_extension": ".py",
   "mimetype": "text/x-python",
   "name": "python",
   "nbconvert_exporter": "python",
   "pygments_lexer": "ipython3",
   "version": "3.8.12"
  }
 },
 "nbformat": 4,
 "nbformat_minor": 5
}
