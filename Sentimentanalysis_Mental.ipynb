{
 "cells": [
  {
   "cell_type": "code",
   "execution_count": 1,
   "id": "0c78d842",
   "metadata": {},
   "outputs": [
    {
     "name": "stderr",
     "output_type": "stream",
     "text": [
      "[nltk_data] Downloading package vader_lexicon to\n",
      "[nltk_data]     /Users/dianakozachek/nltk_data...\n",
      "[nltk_data]   Package vader_lexicon is already up-to-date!\n"
     ]
    },
    {
     "data": {
      "text/plain": [
       "True"
      ]
     },
     "execution_count": 1,
     "metadata": {},
     "output_type": "execute_result"
    }
   ],
   "source": [
    "import re\n",
    "import pandas as pd\n",
    "import matplotlib.pyplot as plt\n",
    "import nltk\n",
    "from nltk.sentiment.vader import SentimentIntensityAnalyzer\n",
    "nltk.download('vader_lexicon')"
   ]
  },
  {
   "cell_type": "code",
   "execution_count": 2,
   "id": "a9e04f24",
   "metadata": {},
   "outputs": [
    {
     "name": "stdout",
     "output_type": "stream",
     "text": [
      "   Uuid                                              Title   Color    Shape  \\\n",
      "0     1                                      Mental Health  4CAF50     Ball   \n",
      "1     2  I Am Worried About the Elderly health How To C...  907A47     Plus   \n",
      "2     3                                             Health  E0C3DD     Plus   \n",
      "3     4                                            Anxiety  1C1C1C     Ball   \n",
      "4     5                                  Stigma In Society  3F51B5  Diamond   \n",
      "\n",
      "      PositionX  PositionY  PositionZ  Group  \n",
      "0 -7.750854e-01   0.370025   0.213730      7  \n",
      "1 -3.341778e-01   0.525397  -0.086628      7  \n",
      "2 -1.045334e+06   0.265556   0.542487      7  \n",
      "3 -9.446453e-01   0.117676   0.282103      7  \n",
      "4 -7.301590e-01   0.238134   0.479451      7  \n"
     ]
    }
   ],
   "source": [
    "#df = pd.read_excel (r'Path where the Excel file is stored\\File name.xlsx')\n",
    "df = pd.read_excel('MENTAL.xlsx')\n",
    "# adding an row_id field to the dataframe, which will be useful for joining later\n",
    "df[\"Uuid\"] = df.index + 1\n",
    "#print first 10 rows \n",
    "print (df.head(5))"
   ]
  },
  {
   "cell_type": "markdown",
   "id": "7e751c9b",
   "metadata": {},
   "source": [
    "# Preprocess, Clean"
   ]
  },
  {
   "cell_type": "code",
   "execution_count": 3,
   "id": "98376c19",
   "metadata": {},
   "outputs": [
    {
     "name": "stdout",
     "output_type": "stream",
     "text": [
      "   Uuid                                              Title\n",
      "0     1                                      mental health\n",
      "1     2  i am worried about the elderly health how to c...\n",
      "2     3                                             health\n",
      "3     4                                            anxiety\n",
      "4     5                                  stigma in society\n"
     ]
    },
    {
     "name": "stderr",
     "output_type": "stream",
     "text": [
      "/var/folders/n8/cx4h3qg137d0ct7rm0p1bvpc0000gn/T/ipykernel_47501/234295493.py:5: FutureWarning: The default value of regex will change from True to False in a future version.\n",
      "  df_subset['Title'] = df_subset['Title'].str.replace(\"[^a-zA-Z#]\", \" \")\n"
     ]
    }
   ],
   "source": [
    "#creates a new data frame with \"Uuid\" and \"Title\" fields\n",
    "df_subset = df[['Uuid', 'Title']].copy()\n",
    "#data clean-up\n",
    "#remove all non-aphabet characters\n",
    "df_subset['Title'] = df_subset['Title'].str.replace(\"[^a-zA-Z#]\", \" \")\n",
    "#covert to lower-case\n",
    "df_subset['Title'] = df_subset['Title'].str.casefold()\n",
    "print (df_subset.head(5))"
   ]
  },
  {
   "cell_type": "code",
   "execution_count": 4,
   "id": "c77b10e5",
   "metadata": {},
   "outputs": [],
   "source": [
    "# set up empty dataframe for staging output\n",
    "df1=pd.DataFrame()\n",
    "df1['Uuid']=['99999999999']\n",
    "df1['sentiment_type']='NA999NA'\n",
    "df1['sentiment_score']=0"
   ]
  },
  {
   "cell_type": "code",
   "execution_count": 5,
   "id": "53d2c30f",
   "metadata": {},
   "outputs": [
    {
     "name": "stdout",
     "output_type": "stream",
     "text": [
      "Processing sentiment analysis:\n",
      "   Uuid sentiment_type  sentiment_score\n",
      "0     1       compound           0.0000\n",
      "0     2       compound          -0.2960\n",
      "0     3       compound           0.0000\n",
      "0     4       compound          -0.1779\n",
      "0     5       compound           0.0000\n"
     ]
    }
   ],
   "source": [
    "print('Processing sentiment analysis:')\n",
    "sid = SentimentIntensityAnalyzer()\n",
    "t_df = df1\n",
    "for index, row in df_subset.iterrows():\n",
    "    scores = sid.polarity_scores(row[1])\n",
    "    for key, value in scores.items():\n",
    "        temp = [key,value,row[0]]\n",
    "        df1['Uuid']=row[0]\n",
    "        df1['sentiment_type']=key\n",
    "        df1['sentiment_score']=value\n",
    "        t_df=t_df.append(df1)\n",
    "#remove dummy row with row_id = 99999999999\n",
    "t_df_cleaned = t_df[t_df.Uuid != '99999999999']\n",
    "#remove duplicates if any exist\n",
    "t_df_cleaned = t_df_cleaned.drop_duplicates()\n",
    "# only keep rows where sentiment_type = compound\n",
    "t_df_cleaned = t_df[t_df.sentiment_type == 'compound']\n",
    "print(t_df_cleaned.head(5))"
   ]
  },
  {
   "cell_type": "code",
   "execution_count": 6,
   "id": "e7c77432",
   "metadata": {},
   "outputs": [
    {
     "name": "stdout",
     "output_type": "stream",
     "text": [
      "   Uuid                                              Title   Color    Shape  \\\n",
      "0     1                                      Mental Health  4CAF50     Ball   \n",
      "1     2  I Am Worried About the Elderly health How To C...  907A47     Plus   \n",
      "2     3                                             Health  E0C3DD     Plus   \n",
      "3     4                                            Anxiety  1C1C1C     Ball   \n",
      "4     5                                  Stigma In Society  3F51B5  Diamond   \n",
      "\n",
      "      PositionX  PositionY  PositionZ  Group sentiment_type  sentiment_score  \n",
      "0 -7.750854e-01   0.370025   0.213730      7       compound           0.0000  \n",
      "1 -3.341778e-01   0.525397  -0.086628      7       compound          -0.2960  \n",
      "2 -1.045334e+06   0.265556   0.542487      7       compound           0.0000  \n",
      "3 -9.446453e-01   0.117676   0.282103      7       compound          -0.1779  \n",
      "4 -7.301590e-01   0.238134   0.479451      7       compound           0.0000  \n"
     ]
    }
   ],
   "source": [
    "#merge dataframes\n",
    "df_output = pd.merge(df, t_df_cleaned, on='Uuid', how='inner')\n",
    "print(df_output.head(5))"
   ]
  },
  {
   "cell_type": "markdown",
   "id": "c14b0db8",
   "metadata": {},
   "source": [
    "# Visualize"
   ]
  },
  {
   "cell_type": "code",
   "execution_count": 7,
   "id": "eb56dc8d",
   "metadata": {},
   "outputs": [
    {
     "data": {
      "text/html": [
       "<div>\n",
       "<style scoped>\n",
       "    .dataframe tbody tr th:only-of-type {\n",
       "        vertical-align: middle;\n",
       "    }\n",
       "\n",
       "    .dataframe tbody tr th {\n",
       "        vertical-align: top;\n",
       "    }\n",
       "\n",
       "    .dataframe thead th {\n",
       "        text-align: right;\n",
       "    }\n",
       "</style>\n",
       "<table border=\"1\" class=\"dataframe\">\n",
       "  <thead>\n",
       "    <tr style=\"text-align: right;\">\n",
       "      <th></th>\n",
       "      <th>sentiment_score</th>\n",
       "    </tr>\n",
       "  </thead>\n",
       "  <tbody>\n",
       "    <tr>\n",
       "      <th>count</th>\n",
       "      <td>246.000000</td>\n",
       "    </tr>\n",
       "    <tr>\n",
       "      <th>mean</th>\n",
       "      <td>-0.050439</td>\n",
       "    </tr>\n",
       "    <tr>\n",
       "      <th>std</th>\n",
       "      <td>0.280994</td>\n",
       "    </tr>\n",
       "    <tr>\n",
       "      <th>min</th>\n",
       "      <td>-0.670500</td>\n",
       "    </tr>\n",
       "    <tr>\n",
       "      <th>25%</th>\n",
       "      <td>-0.177900</td>\n",
       "    </tr>\n",
       "    <tr>\n",
       "      <th>50%</th>\n",
       "      <td>0.000000</td>\n",
       "    </tr>\n",
       "    <tr>\n",
       "      <th>75%</th>\n",
       "      <td>0.000000</td>\n",
       "    </tr>\n",
       "    <tr>\n",
       "      <th>max</th>\n",
       "      <td>0.757900</td>\n",
       "    </tr>\n",
       "  </tbody>\n",
       "</table>\n",
       "</div>"
      ],
      "text/plain": [
       "       sentiment_score\n",
       "count       246.000000\n",
       "mean         -0.050439\n",
       "std           0.280994\n",
       "min          -0.670500\n",
       "25%          -0.177900\n",
       "50%           0.000000\n",
       "75%           0.000000\n",
       "max           0.757900"
      ]
     },
     "execution_count": 7,
     "metadata": {},
     "output_type": "execute_result"
    }
   ],
   "source": [
    "df_output[[\"sentiment_score\"]].describe()"
   ]
  },
  {
   "cell_type": "code",
   "execution_count": 8,
   "id": "26c46f14",
   "metadata": {},
   "outputs": [
    {
     "data": {
      "text/plain": [
       "<AxesSubplot:title={'center':'Sentiment Score'}, xlabel='Group', ylabel='Mean Sentiment Score'>"
      ]
     },
     "execution_count": 8,
     "metadata": {},
     "output_type": "execute_result"
    },
    {
     "data": {
      "image/png": "[encoded data removed]",
      "text/plain": [
       "<Figure size 648x648 with 1 Axes>"
      ]
     },
     "metadata": {
      "needs_background": "light"
     },
     "output_type": "display_data"
    }
   ],
   "source": [
    "#generate mean of sentiment_score by period\n",
    "dfg = df_output.groupby(['Group'])['sentiment_score'].mean()\n",
    "#create a bar plot\n",
    "dfg.plot(kind='bar', title='Sentiment Score', ylabel='Mean Sentiment Score',\n",
    "         xlabel='Group', figsize=(9, 9), color=(0.2, 0.4, 0.6, 0.6))"
   ]
  },
  {
   "cell_type": "code",
   "execution_count": 9,
   "id": "f8045a6e",
   "metadata": {},
   "outputs": [],
   "source": [
    "import seaborn as sns"
   ]
  },
  {
   "cell_type": "code",
   "execution_count": 10,
   "id": "67e7d56c",
   "metadata": {},
   "outputs": [
    {
     "data": {
      "text/plain": [
       "(array([0, 1, 2, 3, 4, 5, 6]),\n",
       " [Text(0, 0, '1'),\n",
       "  Text(1, 0, '2'),\n",
       "  Text(2, 0, '3'),\n",
       "  Text(3, 0, '4'),\n",
       "  Text(4, 0, '5'),\n",
       "  Text(5, 0, '6'),\n",
       "  Text(6, 0, '7')])"
      ]
     },
     "execution_count": 10,
     "metadata": {},
     "output_type": "execute_result"
    },
    {
     "data": {
      "image/png": "[encoded data removed]",
      "text/plain": [
       "<Figure size 432x288 with 1 Axes>"
      ]
     },
     "metadata": {
      "needs_background": "light"
     },
     "output_type": "display_data"
    }
   ],
   "source": [
    "#create seaborn boxplots by group\n",
    "sns.boxplot(x='Group', y='sentiment_score', notch = True,\n",
    "            data=df_output, showfliers=False).set(title='Sentiment Score by Team')\n",
    "#modify axis labels\n",
    "plt.xlabel('Team')\n",
    "plt.ylabel('Sentiment Score')\n",
    "plt.xticks(rotation=90)"
   ]
  },
  {
   "cell_type": "code",
   "execution_count": 11,
   "id": "d0f272f0",
   "metadata": {},
   "outputs": [
    {
     "data": {
      "text/plain": [
       "<AxesSubplot:title={'center':'Sentiment Score'}, xlabel='Group', ylabel='Mean Sentiment Score'>"
      ]
     },
     "execution_count": 11,
     "metadata": {},
     "output_type": "execute_result"
    },
    {
     "data": {
      "image/png": "[encoded data removed]",
      "text/plain": [
       "<Figure size 648x648 with 1 Axes>"
      ]
     },
     "metadata": {
      "needs_background": "light"
     },
     "output_type": "display_data"
    }
   ],
   "source": [
    "dfg.plot(kind='bar', title='Sentiment Score', ylabel='Mean Sentiment Score',\n",
    "         xlabel='Group', figsize=(9, 9), color=(0.2, 0.4, 0.6, 0.6))"
   ]
  },
  {
   "cell_type": "code",
   "execution_count": null,
   "id": "0551dcbe",
   "metadata": {},
   "outputs": [],
   "source": []
  },
  {
   "cell_type": "code",
   "execution_count": null,
   "id": "bdc5c351",
   "metadata": {},
   "outputs": [],
   "source": []
  },
  {
   "cell_type": "code",
   "execution_count": null,
   "id": "5f1c8437",
   "metadata": {},
   "outputs": [],
   "source": []
  },
  {
   "cell_type": "code",
   "execution_count": null,
   "id": "6d06f6dc",
   "metadata": {},
   "outputs": [],
   "source": []
  },
  {
   "cell_type": "code",
   "execution_count": null,
   "id": "076d18d1",
   "metadata": {},
   "outputs": [],
   "source": []
  },
  {
   "cell_type": "code",
   "execution_count": null,
   "id": "143e572f",
   "metadata": {},
   "outputs": [],
   "source": []
  },
  {
   "cell_type": "code",
   "execution_count": null,
   "id": "6fd50d1a",
   "metadata": {},
   "outputs": [],
   "source": []
  },
  {
   "cell_type": "code",
   "execution_count": null,
   "id": "ebc855cb",
   "metadata": {},
   "outputs": [],
   "source": []
  },
  {
   "cell_type": "code",
   "execution_count": null,
   "id": "fd099fb5",
   "metadata": {},
   "outputs": [],
   "source": []
  },
  {
   "cell_type": "code",
   "execution_count": null,
   "id": "34351624",
   "metadata": {},
   "outputs": [],
   "source": []
  },
  {
   "cell_type": "code",
   "execution_count": null,
   "id": "6deb03b1",
   "metadata": {},
   "outputs": [],
   "source": []
  },
  {
   "cell_type": "code",
   "execution_count": null,
   "id": "d8bcb722",
   "metadata": {},
   "outputs": [],
   "source": []
  },
  {
   "cell_type": "code",
   "execution_count": null,
   "id": "85fb4fbd",
   "metadata": {},
   "outputs": [],
   "source": []
  }
 ],
 "metadata": {
  "kernelspec": {
   "display_name": "Python 3 (ipykernel)",
   "language": "python",
   "name": "python3"
  },
  "language_info": {
   "codemirror_mode": {
    "name": "ipython",
    "version": 3
   },
   "file_extension": ".py",
   "mimetype": "text/x-python",
   "name": "python",
   "nbconvert_exporter": "python",
   "pygments_lexer": "ipython3",
   "version": "3.8.12"
  }
 },
 "nbformat": 4,
 "nbformat_minor": 5
}
